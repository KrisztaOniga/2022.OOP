{
  "nbformat": 4,
  "nbformat_minor": 0,
  "metadata": {
    "hide_input": false,
    "kernelspec": {
      "display_name": "Python 3",
      "language": "python",
      "name": "python3"
    },
    "language_info": {
      "codemirror_mode": {
        "name": "ipython",
        "version": 3
      },
      "file_extension": ".py",
      "mimetype": "text/x-python",
      "name": "python",
      "nbconvert_exporter": "python",
      "pygments_lexer": "ipython3",
      "version": "3.7.1"
    },
    "colab": {
      "provenance": [],
      "include_colab_link": true
    }
  },
  "cells": [
    {
      "cell_type": "markdown",
      "metadata": {
        "id": "view-in-github",
        "colab_type": "text"
      },
      "source": [
        "<a href=\"https://colab.research.google.com/github/KrisztaOniga/2022.OOP/blob/main/feladat01_ipynb_m%C3%A1solata.ipynb\" target=\"_parent\"><img src=\"https://colab.research.google.com/assets/colab-badge.svg\" alt=\"Open In Colab\"/></a>"
      ]
    },
    {
      "cell_type": "markdown",
      "metadata": {
        "id": "BrjbAqF7dFwX"
      },
      "source": [
        "# Feladatok\n",
        "\n",
        "\n",
        "\n",
        "----\n"
      ]
    },
    {
      "cell_type": "markdown",
      "metadata": {
        "id": "4u3wvRgsdFwa"
      },
      "source": [
        "## 1. Feladat\n",
        "#### Listák - I.\n",
        "\n",
        "Galileo Galilei egyik gondolatát küdték el nekünk SMS-ben, de sajnos hálózati hiba miatt nem sorrendben érkeztek meg a szavak. A következőt olvastuk a telefonunkban:"
      ]
    },
    {
      "cell_type": "code",
      "metadata": {
        "id": "KiIy4GbidFwb"
      },
      "source": [
        "sms=['Szentírás ', 'bölcs ', 'a ', 'már ', 'szükséges ', 'mondhat ', 'biztosak ', 'a ',\n",
        "     'feladata, ', 'Mivel ', 'ellent ', 'a ', 'érzéki ', 'azokkal ', 'következtetésekkel, ',\n",
        "     'a ', 'vagyunk ', 'a ', 'tapasztalataink ', 'szöveg ', 'azon ', 'igazság ', 'sose ',\n",
        "     'ami ', 'hogy ', 'melyekben ', 'kísérletek ', 'megtalálják ', 'által.', 'két ', 'fizikai ',\n",
        "     'egymásnak, ', 'egyezik ', 'és ', 'értelmezőinek ', 'értelmezését, ']"
      ],
      "execution_count": null,
      "outputs": []
    },
    {
      "cell_type": "markdown",
      "metadata": {
        "id": "kRAM2StCdFwf"
      },
      "source": [
        "Később a telefonszolgáltató megtalálta a hiba okát, és elküldte, hogy milyen sorrendben kaptuk meg az eredeti szöveg szavait:"
      ]
    },
    {
      "cell_type": "code",
      "metadata": {
        "id": "YfEx-oA7dFwg"
      },
      "source": [
        "sorrend=[8,9,15,26,33,4,27,11,12,0,5,32,29,21,24,22,28,7,30,16,17,2,3,19,13,25,34,14,35,1,23,6,20,31,10,18]"
      ],
      "execution_count": null,
      "outputs": []
    },
    {
      "cell_type": "markdown",
      "metadata": {
        "id": "sA6gpmXJdFwj"
      },
      "source": [
        "Azaz az általunk megkapott első szó az eredeti szövegben a 8-as indexet viselte, azaz a 9. volt.\n",
        "\n",
        "Írj egy olyan programot, ami helyreállítja az idézetet, valamint össze is fűzi a lista elemeit egy mondattá."
      ]
    },
    {
      "cell_type": "code",
      "source": [
        "def rendezesi_kulcs(k):\n",
        "    return sorrend[k]\n",
        "\n",
        "n = range(len(sms))\n",
        "rendezett = sorted(n, key=rendezesi_kulcs)\n",
        "print(rendezett)\n",
        "\n",
        "szavak = []\n",
        "for i in rendezett:\n",
        "    szavak.append(sms[i])\n",
        "print (szavak)\n",
        "\n",
        "mondat = ''.join(szavak)\n",
        "print(\"Eredeti mondat: \")\n",
        "print(mondat)\n",
        "\n"
      ],
      "metadata": {
        "id": "fHwGspaRkJp0",
        "outputId": "4d0ce24d-7208-40ef-eff3-7847ec84c369",
        "colab": {
          "base_uri": "https://localhost:8080/"
        }
      },
      "execution_count": null,
      "outputs": [
        {
          "output_type": "stream",
          "name": "stdout",
          "text": [
            "[9, 29, 21, 22, 5, 10, 31, 17, 0, 1, 34, 7, 8, 24, 27, 2, 19, 20, 35, 23, 32, 13, 15, 30, 14, 25, 3, 6, 16, 12, 18, 33, 11, 4, 26, 28]\n",
            "['Mivel ', 'két ', 'igazság ', 'sose ', 'mondhat ', 'ellent ', 'egymásnak, ', 'a ', 'Szentírás ', 'bölcs ', 'értelmezőinek ', 'a ', 'feladata, ', 'hogy ', 'megtalálják ', 'a ', 'szöveg ', 'azon ', 'értelmezését, ', 'ami ', 'egyezik ', 'azokkal ', 'a ', 'fizikai ', 'következtetésekkel, ', 'melyekben ', 'már ', 'biztosak ', 'vagyunk ', 'érzéki ', 'tapasztalataink ', 'és ', 'a ', 'szükséges ', 'kísérletek ', 'által.']\n",
            "Eredeti mondat: \n",
            "Mivel két igazság sose mondhat ellent egymásnak, a Szentírás bölcs értelmezőinek a feladata, hogy megtalálják a szöveg azon értelmezését, ami egyezik azokkal a fizikai következtetésekkel, melyekben már biztosak vagyunk érzéki tapasztalataink és a szükséges kísérletek által.\n"
          ]
        }
      ]
    },
    {
      "cell_type": "markdown",
      "metadata": {
        "id": "trwhokPldFwk"
      },
      "source": [
        "## 2. Feladat\n",
        "\n",
        "#### Dictionary - I.\n",
        "\n",
        "Írjatok egy függvényt, ami a megadott szótár segítségével tetszőleges magyar szöveget angolra fordít!\n",
        "\n",
        "- A fordítás történjen szóról szóra.\n",
        "- Ha ismeretlen szóval találkoztok, akkor csináljátok azt, amit a Google Translator: csak írjátok ki az eredeti szót fordítás nélkül. ( A szöveg többi részét természetesen le kell fordítani.)\n",
        "- Nem baj, ha nyelvtanilag nem helyes vagy értelmetlen a fordítás."
      ]
    },
    {
      "cell_type": "code",
      "metadata": {
        "id": "9tGUdBQndFwl"
      },
      "source": [
        "szotar={'a':'the',\n",
        "        'majom': 'monkey',\n",
        "        'kutya':'dog',\n",
        "        'szereti':'likes',\n",
        "        'banánt':'banana',\n",
        "        'kolbászt':'sausage'}\n",
        "\n",
        "magyar_mondat='a majom szereti a banánt minden kutya szereti a kolbászt'"
      ],
      "execution_count": 58,
      "outputs": []
    },
    {
      "cell_type": "code",
      "source": [
        "def fordito(szoveg, szotar):\n",
        "    szavak = szoveg.split()\n",
        "    for szo in szavak:\n",
        "      if szo in szotar:\n",
        "          forditott_szo = szotar[szo]\n",
        "      else:\n",
        "          forditott_szo = szo\n",
        "      print(forditott_szo, end=' ')\n",
        "\n",
        "print(\"A forditott szoveg:\")\n",
        "fordito(magyar_mondat, szotar)\n"
      ],
      "metadata": {
        "colab": {
          "base_uri": "https://localhost:8080/"
        },
        "id": "mOhhks191_-N",
        "outputId": "fc3b8850-afb6-4981-80f3-358485070966"
      },
      "execution_count": 59,
      "outputs": [
        {
          "output_type": "stream",
          "name": "stdout",
          "text": [
            "A forditott szoveg:\n",
            "the monkey likes the banana minden dog likes the sausage "
          ]
        }
      ]
    },
    {
      "cell_type": "markdown",
      "metadata": {
        "id": "dK---IxJdFwo"
      },
      "source": [
        "## 3. feladat\n",
        "\n",
        "#### Függvények - II.\n",
        "\n",
        "Írj egy függvényt, ami a $$ ax^2+bx+c=0 $$ másodfokú egyenlet (valós és komplex) gyökeit határozza meg. Csak akkor kapjunk eredményként komplex számot, ha a diszkrimináns negatív!\n",
        "\n",
        "Példaként add meg a következő négy egyenlet megoldását:\n",
        "1. $x^2=100$\n",
        "2. $3x^2-25x=10$\n",
        "3. $-4x^2+4x=1$\n",
        "4. $25x^2+16x=-100$"
      ]
    },
    {
      "cell_type": "code",
      "metadata": {
        "id": "iHHzPu_jdFwp",
        "colab": {
          "base_uri": "https://localhost:8080/"
        },
        "outputId": "a3442a8a-935e-46d1-d4d0-e7127dd973f0"
      },
      "source": [
        "import cmath\n",
        "\n",
        "def masodfoku(a,b,c):\n",
        "    delta = b**2 - 4*a*c\n",
        "    print(f\"Delta: {delta}\")\n",
        "\n",
        "    if delta >= 0:\n",
        "        x1 = (-b + delta**0.5) / (2*a)\n",
        "        x2 = (-b - delta**0.5) / (2*a)\n",
        "    else:\n",
        "        x1 = (-b + cmath.sqrt(delta)) / (2*a)\n",
        "        x2 = (-b - cmath.sqrt(delta)) / (2*a)\n",
        "    return x1, x2\n",
        "\n",
        "print(f\"x^2=100: Gyökök: {masodfoku(1, 0, -100)}\")\n",
        "print(f\"3x^2-25x=10: Gyökök: {masodfoku(3, -25, -10)}\")\n",
        "print(f\"-4x^2+4x=1: Gyökök: {masodfoku(-4, 4, -1)}\")\n",
        "print(f\"25x^2+16x=-100: Gyökök: {masodfoku(25, 16, 100)}\")"
      ],
      "execution_count": null,
      "outputs": [
        {
          "output_type": "stream",
          "name": "stdout",
          "text": [
            "Delta: 400\n",
            "x^2=100: Gyökök: (10.0, -10.0)\n",
            "Delta: 745\n",
            "3x^2-25x=10: Gyökök: (8.71578135465206, -0.38244802131872707)\n",
            "Delta: 0\n",
            "-4x^2+4x=1: Gyökök: (0.5, 0.5)\n",
            "Delta: -9744\n",
            "25x^2+16x=-100: Gyökök: ((-0.32+1.9742340286804907j), (-0.32-1.9742340286804907j))\n"
          ]
        }
      ]
    },
    {
      "cell_type": "markdown",
      "metadata": {
        "id": "PxmZy_IRdFws"
      },
      "source": [
        "## 4. Feladat\n",
        "\n",
        "#### Docstring és változó számú argumentumok - I.\n",
        "\n",
        "Írjunk egy függvényt, amely egy kezdőértékből, egy kvóciensből és egy N egész számból legyárt egy N hosszú mértani sorozatot.\n",
        "\n",
        "Az általunk megírt függvény teljesítse a következő feltételeket:\n",
        "- írjunk **docstringet**,\n",
        "- a függvény egy listával **térjen vissza**\n",
        "- ha egy bemeneti értéke van, akkor azt tekintse kezdőértéknek, a kvóciens legyen 0.5, N pedig 10\n",
        "- ha két bemeneti érték van, akkor az első legyen a kezdőérték, a második a kvóciens, N pedig 10\n",
        "- ha megvan mind a három paraméter, akkor ugyanúgy viselkedjen, mint ahogy azt az előző feladatban tette"
      ]
    },
    {
      "cell_type": "code",
      "metadata": {
        "id": "gemtKC0SdFws",
        "colab": {
          "base_uri": "https://localhost:8080/"
        },
        "outputId": "8aae8f9e-8ce5-49de-8043-271cfff09d93"
      },
      "source": [
        "def mertani(x0 = 1, q = 0.5, N = 10):\n",
        "    \"\"\"\n",
        "    Létrehoz egy N hosszú mértani sorozatot a megadott kezdőértékből és kvóciensből\n",
        "\n",
        "    Args:\n",
        "        x0: kezdőérték\n",
        "        q: kvóciens\n",
        "        N: mertani sorozat hossza\n",
        "\n",
        "    Returns:\n",
        "        lista: Egy mértani sorozat\n",
        "    \"\"\"\n",
        "    mertani_sorozat = []\n",
        "    for i in range(N):\n",
        "      mertani_sorozat.append(x0 * q**i)\n",
        "    return mertani_sorozat\n",
        "\n",
        "print(mertani())\n",
        "print(mertani(2))\n",
        "print(mertani(2, 3))\n",
        "print(mertani(2, 3, 6))"
      ],
      "execution_count": null,
      "outputs": [
        {
          "output_type": "stream",
          "name": "stdout",
          "text": [
            "[1.0, 0.5, 0.25, 0.125, 0.0625, 0.03125, 0.015625, 0.0078125, 0.00390625, 0.001953125]\n",
            "[2.0, 1.0, 0.5, 0.25, 0.125, 0.0625, 0.03125, 0.015625, 0.0078125, 0.00390625]\n",
            "[2, 6, 18, 54, 162, 486, 1458, 4374, 13122, 39366]\n",
            "[2, 6, 18, 54, 162, 486]\n"
          ]
        }
      ]
    },
    {
      "cell_type": "markdown",
      "metadata": {
        "id": "76srIpUudFwv"
      },
      "source": [
        "##  5. feladat\n",
        "\n",
        "#### Dictionary - II.\n",
        "\n",
        "A harmadik feladat magyar-angol szótárának megfordításával készítsétek el az angol-magyar szótárt, majd ennek segítségével a függvényt, ami tetszőleges angol szöveget magyarra fordít!\n",
        "\n",
        "- A kézzel bevitt szótár nem jó megoldás! (használjátok a `dict` típus `items()` tagfüggvényét!)\n",
        "\n",
        "- Ha ismeretlen szóval találkoztok, akkor csináljátok azt, amit a Google Translator: csak írjátok ki az eredeti szót fordítás nélkül. ( A szöveg többi részét természetesen le kell fordítani.)\n",
        "\n",
        "- Nem baj, ha nyelvtanilag nem helyes, vagy értelmetlen a fordítás.\n",
        "\n",
        "----"
      ]
    },
    {
      "cell_type": "code",
      "metadata": {
        "id": "yM95f8I0dFwv"
      },
      "source": [
        "szotar={'a':'the',\n",
        "        'majom': 'monkey',\n",
        "        'kutya':'dog',\n",
        "        'szereti':'likes',\n",
        "        'banánt':'banana',\n",
        "        'kolbászt':'sausage'}\n",
        "\n",
        "angol_mondat='The monkey likes banana. Every dog likes sausage.'"
      ],
      "execution_count": 68,
      "outputs": []
    },
    {
      "cell_type": "code",
      "source": [
        "import unicodedata\n",
        "import string\n",
        "\n",
        "irasjelek = string.punctuation\n",
        "\n",
        "def angol_magyar_fordito(szoveg, szotar):\n",
        "    szavak = szoveg.split()\n",
        "    for szo in szavak:\n",
        "      irasjel_mentes_kisbetus_szo = szo.strip(irasjelek).lower()\n",
        "      if irasjel_mentes_kisbetus_szo in szotar:\n",
        "          forditott_szo = szotar[irasjel_mentes_kisbetus_szo]\n",
        "      else:\n",
        "          forditott_szo = irasjel_mentes_kisbetus_szo\n",
        "      print(forditott_szo, end=' ')\n",
        "\n",
        "angol_szotar = {}\n",
        "for k, v in szotar.items():\n",
        "    angol_szotar[v] = k\n",
        "print(angol_szotar)\n",
        "\n",
        "print(\"A forditott szoveg:\")\n",
        "angol_magyar_fordito(angol_mondat, angol_szotar)\n"
      ],
      "metadata": {
        "colab": {
          "base_uri": "https://localhost:8080/"
        },
        "id": "OgGc5JWpft5p",
        "outputId": "f062c662-95b6-4828-f969-4922b6e6fb4f"
      },
      "execution_count": 128,
      "outputs": [
        {
          "output_type": "stream",
          "name": "stdout",
          "text": [
            "{'the': 'a', 'monkey': 'majom', 'dog': 'kutya', 'likes': 'szereti', 'banana': 'banánt', 'sausage': 'kolbászt'}\n",
            "A forditott szoveg:\n",
            "a majom szereti banánt every kutya szereti kolbászt "
          ]
        }
      ]
    },
    {
      "cell_type": "markdown",
      "metadata": {
        "id": "-qRGQ5HIdFwy"
      },
      "source": [
        "##  6. feladat\n",
        "\n",
        "#### Kulcsszavas függvény változó számú argumentummal\n",
        "\n",
        "Írjunk egy függvényt, amely egy adott **x** array-ben tárolt valós értékekre kiértékel egy tetszőleges polinomfüggvényt, vagy ábrázolja azt!\n",
        "- A polinom-együtthatókat egy tetszőleges hosszúságú **args** nevű váltózóban kapjuk.\n",
        "- Ha a **kwargs** kulcsszavas argumentumban a `csinal_kepet` kulcsszo `True` akkor ábrázoljuk a polinomot és ne térjünk vissza semmilyen értékkel, ellenkező esetben a függvény térjen vissza egy array változóval amely polinom értékeit tartalmazza az **x** változóban tárolt helyeken.\n",
        "- Az ábrázolás stilisztikai paramétereit a függvénynek adott egyéb kulcsszavas argumentumok segítségével állítsuk be!"
      ]
    },
    {
      "cell_type": "code",
      "metadata": {
        "id": "sJiHJMyLdFwy",
        "colab": {
          "base_uri": "https://localhost:8080/"
        },
        "outputId": "cf0e3529-38d3-442c-ed27-6fee1ea56856"
      },
      "source": [
        "import numpy as np\n",
        "import matplotlib.pyplot as plt\n",
        "\n",
        "def fuggveny(x, *args, **kwargs):\n",
        "    \"Kiértékelek vagy ábrázolok egy polinom-ot\"\n",
        "\n",
        "    polinom = np.poly1d(args)\n",
        "    ertekek = polinom(x)\n",
        "\n",
        "    if kwargs.get(\"csinal_kepet\", False):\n",
        "        plt.plot(x, ertekek)\n",
        "        plt.title(\"Polinom értékelése\")\n",
        "        plt.show()\n",
        "        return None\n",
        "    else:\n",
        "        return ertekek\n",
        "\n",
        "x = np.linspace(-5, 5, 10)\n",
        "\n",
        "eredmenyek = fuggveny(x, 1, -4, -3, csinal_kepet=False)\n",
        "print(eredmenyek)"
      ],
      "execution_count": 120,
      "outputs": [
        {
          "output_type": "stream",
          "name": "stdout",
          "text": [
            "[42.         27.67901235 15.82716049  6.44444444 -0.4691358  -4.91358025\n",
            " -6.88888889 -6.39506173 -3.43209877  2.        ]\n"
          ]
        }
      ]
    },
    {
      "cell_type": "markdown",
      "metadata": {
        "id": "PuID9ktLdFw1"
      },
      "source": [
        "## 7. feladat\n",
        "\n",
        "#### Listák - II.\n",
        "\n",
        "Ábrázold hisztogramon az [Anyám tyúkja](http://magyar-irodalom.elte.hu/sulinet/igyjo/setup/portrek/petofi/anyamtyu.htm) versben a szavak hosszának eloszlását."
      ]
    },
    {
      "cell_type": "code",
      "source": [
        "import matplotlib.pyplot as plt\n",
        "\n",
        "vers_szovege = \"\"\"\n",
        "Ej, mi a kő! tyúkanyó, kend\n",
        "A szobában lakik itt bent?\n",
        "Lám, csak jó az isten, jót ád,\n",
        "Hogy fölvitte a kend dolgát!\n",
        "\n",
        "Itt szaladgál föl és alá,\n",
        "Még a ládára is fölszáll,\n",
        "Eszébe jut, kotkodácsol,\n",
        "S nem verik ki a szobából.\n",
        "\n",
        "Dehogy verik, dehogy verik!\n",
        "Mint a galambot etetik,\n",
        "Válogat a kendermagban,\n",
        "A kiskirály sem él jobban.\n",
        "\n",
        "Ezért aztán, tyúkanyó, hát\n",
        "Jól megbecsűlje kend magát,\n",
        "Iparkodjék, ne legyen ám\n",
        "Tojás szűkében az anyám. -\n",
        "\n",
        "Morzsa kutyánk, hegyezd füled,\n",
        "Hadd beszélek mostan veled,\n",
        "Régi cseléd vagy a háznál,\n",
        "Mindig emberűl szolgáltál,\n",
        "\n",
        "Ezután is jó légy, Morzsa,\n",
        "Kedvet ne kapj a tyúkhusra,\n",
        "Élj a tyúkkal barátságba'...\n",
        "Anyám egyetlen jószága.\n",
        "\"\"\"\n",
        "\n",
        "szavak = []\n",
        "for szo in vers_szovege.split():\n",
        "  szavak.append(szo.strip(irasjelek))\n",
        "print(szavak)\n",
        "\n",
        "szavak_hossza = []\n",
        "for szo in szavak:\n",
        "  szavak_hossza.append(len(szo))\n",
        "print(szavak_hossza)\n",
        "\n",
        "plt.hist(szavak_hossza, edgecolor='black')\n",
        "plt.title('Szavak hosszának eloszlása az \"Anyám tyúkja\" versben')\n",
        "plt.show()\n"
      ],
      "metadata": {
        "colab": {
          "base_uri": "https://localhost:8080/",
          "height": 508
        },
        "id": "3sUxXOVazaTd",
        "outputId": "5edbfb10-0788-4bd9-ade9-e94368f9f32c"
      },
      "execution_count": 137,
      "outputs": [
        {
          "output_type": "stream",
          "name": "stdout",
          "text": [
            "['Ej', 'mi', 'a', 'kő', 'tyúkanyó', 'kend', 'A', 'szobában', 'lakik', 'itt', 'bent', 'Lám', 'csak', 'jó', 'az', 'isten', 'jót', 'ád', 'Hogy', 'fölvitte', 'a', 'kend', 'dolgát', 'Itt', 'szaladgál', 'föl', 'és', 'alá', 'Még', 'a', 'ládára', 'is', 'fölszáll', 'Eszébe', 'jut', 'kotkodácsol', 'S', 'nem', 'verik', 'ki', 'a', 'szobából', 'Dehogy', 'verik', 'dehogy', 'verik', 'Mint', 'a', 'galambot', 'etetik', 'Válogat', 'a', 'kendermagban', 'A', 'kiskirály', 'sem', 'él', 'jobban', 'Ezért', 'aztán', 'tyúkanyó', 'hát', 'Jól', 'megbecsűlje', 'kend', 'magát', 'Iparkodjék', 'ne', 'legyen', 'ám', 'Tojás', 'szűkében', 'az', 'anyám', '', 'Morzsa', 'kutyánk', 'hegyezd', 'füled', 'Hadd', 'beszélek', 'mostan', 'veled', 'Régi', 'cseléd', 'vagy', 'a', 'háznál', 'Mindig', 'emberűl', 'szolgáltál', 'Ezután', 'is', 'jó', 'légy', 'Morzsa', 'Kedvet', 'ne', 'kapj', 'a', 'tyúkhusra', 'Élj', 'a', 'tyúkkal', 'barátságba', 'Anyám', 'egyetlen', 'jószága']\n",
            "[2, 2, 1, 2, 8, 4, 1, 8, 5, 3, 4, 3, 4, 2, 2, 5, 3, 2, 4, 8, 1, 4, 6, 3, 9, 3, 2, 3, 3, 1, 6, 2, 8, 6, 3, 11, 1, 3, 5, 2, 1, 8, 6, 5, 6, 5, 4, 1, 8, 6, 7, 1, 12, 1, 9, 3, 2, 6, 5, 5, 8, 3, 3, 11, 4, 5, 10, 2, 6, 2, 5, 8, 2, 5, 0, 6, 7, 7, 5, 4, 8, 6, 5, 4, 6, 4, 1, 6, 6, 7, 10, 6, 2, 2, 4, 6, 6, 2, 4, 1, 9, 3, 1, 7, 10, 5, 8, 7]\n"
          ]
        },
        {
          "output_type": "display_data",
          "data": {
            "text/plain": [
              "<Figure size 640x480 with 1 Axes>"
            ],
            "image/png": "[encoded data removed]"
          },
          "metadata": {}
        }
      ]
    },
    {
      "cell_type": "markdown",
      "metadata": {
        "id": "CAAfXZzzdFw2"
      },
      "source": [
        "##  8. Péksütemény\n",
        "\n",
        "#### Véletlen számok-II\n",
        "\n",
        "Írj egy olyan függvényt, melynek bemeneti értéke a $p$ valószínűség (mely egy 0 és 1 közötti szám), kimeneti értéke pedig $p$ valószínűséggel a \"kakaós csiga\" string, 1-$p$ valószínűséggel pedig a \"túrós táska\" string. Demonstráld hisztogram segítségével, hogy a függvényed helyes eloszlással generálja a kívánt péksüteményeket!"
      ]
    },
    {
      "cell_type": "code",
      "metadata": {
        "id": "YiU_180sdFw2",
        "colab": {
          "base_uri": "https://localhost:8080/",
          "height": 430
        },
        "outputId": "c702b36f-22c1-48e8-8418-4d1adc2cef3e"
      },
      "source": [
        "import numpy as np\n",
        "import matplotlib.pyplot as plt\n",
        "\n",
        "def fuggveny(p):\n",
        "    if np.random.rand() < p:\n",
        "        return \"kakaós csiga\"\n",
        "    else:\n",
        "        return \"túrós táska\"\n",
        "\n",
        "def bizonyitas(p):\n",
        "    sutemenyek = []\n",
        "    for _ in range(1000):\n",
        "      sutemenyek.append(fuggveny(p))\n",
        "\n",
        "    plt.hist(sutemenyek, edgecolor='black')\n",
        "    plt.show()\n",
        "\n",
        "bizonyitas(0.2)\n"
      ],
      "execution_count": 153,
      "outputs": [
        {
          "output_type": "display_data",
          "data": {
            "text/plain": [
              "<Figure size 640x480 with 1 Axes>"
            ],
            "image/png": "[encoded data removed]"
          },
          "metadata": {}
        }
      ]
    }
  ]
}